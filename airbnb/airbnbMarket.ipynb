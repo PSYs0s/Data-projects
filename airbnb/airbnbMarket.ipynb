{
 "cells": [
  {
   "cell_type": "code",
   "execution_count": 29,
   "id": "9d65dc76",
   "metadata": {},
   "outputs": [],
   "source": [
    "import pandas as pd\n",
    "import numpy as np\n",
    "import datetime as dt"
   ]
  },
  {
   "cell_type": "code",
   "execution_count": 30,
   "id": "1e57af54",
   "metadata": {},
   "outputs": [],
   "source": [
    "prices = pd.read_csv('C:/Users/psys0/Desktop/Projects/airbnb/airbnb_price.csv')\n",
    "xls = pd.ExcelFile('C:/Users/psys0/Desktop/Projects/airbnb/airbnb_room_type.xlsx')\n",
    "room_types = xls.parse()\n",
    "reviews = pd.read_csv('C:/Users/psys0/Desktop/Projects/airbnb/airbnb_last_review.csv')\n"
   ]
  },
  {
   "cell_type": "code",
   "execution_count": 31,
   "id": "e5411ad9",
   "metadata": {},
   "outputs": [
    {
     "data": {
      "text/html": [
       "<style type=\"text/css\">\n",
       "#T_0e407_row0_col0 {\n",
       "  background-color: #fff7fb;\n",
       "  color: #000000;\n",
       "}\n",
       "#T_0e407_row1_col0 {\n",
       "  background-color: #81aed2;\n",
       "  color: #f1f1f1;\n",
       "}\n",
       "#T_0e407_row2_col0 {\n",
       "  background-color: #03466e;\n",
       "  color: #f1f1f1;\n",
       "}\n",
       "#T_0e407_row3_col0 {\n",
       "  background-color: #023d60;\n",
       "  color: #f1f1f1;\n",
       "}\n",
       "#T_0e407_row4_col0 {\n",
       "  background-color: #023858;\n",
       "  color: #f1f1f1;\n",
       "}\n",
       "</style>\n",
       "<table id=\"T_0e407\">\n",
       "  <thead>\n",
       "    <tr>\n",
       "      <th class=\"blank level0\" >&nbsp;</th>\n",
       "      <th id=\"T_0e407_level0_col0\" class=\"col_heading level0 col0\" >listing_id</th>\n",
       "      <th id=\"T_0e407_level0_col1\" class=\"col_heading level0 col1\" >price</th>\n",
       "      <th id=\"T_0e407_level0_col2\" class=\"col_heading level0 col2\" >nbhood_full</th>\n",
       "    </tr>\n",
       "  </thead>\n",
       "  <tbody>\n",
       "    <tr>\n",
       "      <th id=\"T_0e407_level0_row0\" class=\"row_heading level0 row0\" >0</th>\n",
       "      <td id=\"T_0e407_row0_col0\" class=\"data row0 col0\" >2595</td>\n",
       "      <td id=\"T_0e407_row0_col1\" class=\"data row0 col1\" >225 dollars</td>\n",
       "      <td id=\"T_0e407_row0_col2\" class=\"data row0 col2\" >Manhattan, Midtown</td>\n",
       "    </tr>\n",
       "    <tr>\n",
       "      <th id=\"T_0e407_level0_row1\" class=\"row_heading level0 row1\" >1</th>\n",
       "      <td id=\"T_0e407_row1_col0\" class=\"data row1 col0\" >3831</td>\n",
       "      <td id=\"T_0e407_row1_col1\" class=\"data row1 col1\" >89 dollars</td>\n",
       "      <td id=\"T_0e407_row1_col2\" class=\"data row1 col2\" >Brooklyn, Clinton Hill</td>\n",
       "    </tr>\n",
       "    <tr>\n",
       "      <th id=\"T_0e407_level0_row2\" class=\"row_heading level0 row2\" >2</th>\n",
       "      <td id=\"T_0e407_row2_col0\" class=\"data row2 col0\" >5099</td>\n",
       "      <td id=\"T_0e407_row2_col1\" class=\"data row2 col1\" >200 dollars</td>\n",
       "      <td id=\"T_0e407_row2_col2\" class=\"data row2 col2\" >Manhattan, Murray Hill</td>\n",
       "    </tr>\n",
       "    <tr>\n",
       "      <th id=\"T_0e407_level0_row3\" class=\"row_heading level0 row3\" >3</th>\n",
       "      <td id=\"T_0e407_row3_col0\" class=\"data row3 col0\" >5178</td>\n",
       "      <td id=\"T_0e407_row3_col1\" class=\"data row3 col1\" >79 dollars</td>\n",
       "      <td id=\"T_0e407_row3_col2\" class=\"data row3 col2\" >Manhattan, Hell's Kitchen</td>\n",
       "    </tr>\n",
       "    <tr>\n",
       "      <th id=\"T_0e407_level0_row4\" class=\"row_heading level0 row4\" >4</th>\n",
       "      <td id=\"T_0e407_row4_col0\" class=\"data row4 col0\" >5238</td>\n",
       "      <td id=\"T_0e407_row4_col1\" class=\"data row4 col1\" >150 dollars</td>\n",
       "      <td id=\"T_0e407_row4_col2\" class=\"data row4 col2\" >Manhattan, Chinatown</td>\n",
       "    </tr>\n",
       "  </tbody>\n",
       "</table>\n"
      ],
      "text/plain": [
       "<pandas.io.formats.style.Styler at 0x257a8327820>"
      ]
     },
     "execution_count": 31,
     "metadata": {},
     "output_type": "execute_result"
    }
   ],
   "source": [
    "prices.head().style.background_gradient()"
   ]
  },
  {
   "cell_type": "code",
   "execution_count": 32,
   "id": "3cdb2250",
   "metadata": {},
   "outputs": [
    {
     "data": {
      "text/html": [
       "<style type=\"text/css\">\n",
       "#T_60d51_row0_col0 {\n",
       "  background-color: #fff7fb;\n",
       "  color: #000000;\n",
       "}\n",
       "#T_60d51_row1_col0 {\n",
       "  background-color: #81aed2;\n",
       "  color: #f1f1f1;\n",
       "}\n",
       "#T_60d51_row2_col0 {\n",
       "  background-color: #03466e;\n",
       "  color: #f1f1f1;\n",
       "}\n",
       "#T_60d51_row3_col0 {\n",
       "  background-color: #023d60;\n",
       "  color: #f1f1f1;\n",
       "}\n",
       "#T_60d51_row4_col0 {\n",
       "  background-color: #023858;\n",
       "  color: #f1f1f1;\n",
       "}\n",
       "</style>\n",
       "<table id=\"T_60d51\">\n",
       "  <thead>\n",
       "    <tr>\n",
       "      <th class=\"blank level0\" >&nbsp;</th>\n",
       "      <th id=\"T_60d51_level0_col0\" class=\"col_heading level0 col0\" >listing_id</th>\n",
       "      <th id=\"T_60d51_level0_col1\" class=\"col_heading level0 col1\" >description</th>\n",
       "      <th id=\"T_60d51_level0_col2\" class=\"col_heading level0 col2\" >room_type</th>\n",
       "    </tr>\n",
       "  </thead>\n",
       "  <tbody>\n",
       "    <tr>\n",
       "      <th id=\"T_60d51_level0_row0\" class=\"row_heading level0 row0\" >0</th>\n",
       "      <td id=\"T_60d51_row0_col0\" class=\"data row0 col0\" >2595</td>\n",
       "      <td id=\"T_60d51_row0_col1\" class=\"data row0 col1\" >Skylit Midtown Castle</td>\n",
       "      <td id=\"T_60d51_row0_col2\" class=\"data row0 col2\" >Entire home/apt</td>\n",
       "    </tr>\n",
       "    <tr>\n",
       "      <th id=\"T_60d51_level0_row1\" class=\"row_heading level0 row1\" >1</th>\n",
       "      <td id=\"T_60d51_row1_col0\" class=\"data row1 col0\" >3831</td>\n",
       "      <td id=\"T_60d51_row1_col1\" class=\"data row1 col1\" >Cozy Entire Floor of Brownstone</td>\n",
       "      <td id=\"T_60d51_row1_col2\" class=\"data row1 col2\" >Entire home/apt</td>\n",
       "    </tr>\n",
       "    <tr>\n",
       "      <th id=\"T_60d51_level0_row2\" class=\"row_heading level0 row2\" >2</th>\n",
       "      <td id=\"T_60d51_row2_col0\" class=\"data row2 col0\" >5099</td>\n",
       "      <td id=\"T_60d51_row2_col1\" class=\"data row2 col1\" >Large Cozy 1 BR Apartment In Midtown East</td>\n",
       "      <td id=\"T_60d51_row2_col2\" class=\"data row2 col2\" >Entire home/apt</td>\n",
       "    </tr>\n",
       "    <tr>\n",
       "      <th id=\"T_60d51_level0_row3\" class=\"row_heading level0 row3\" >3</th>\n",
       "      <td id=\"T_60d51_row3_col0\" class=\"data row3 col0\" >5178</td>\n",
       "      <td id=\"T_60d51_row3_col1\" class=\"data row3 col1\" >Large Furnished Room Near B'way</td>\n",
       "      <td id=\"T_60d51_row3_col2\" class=\"data row3 col2\" >private room</td>\n",
       "    </tr>\n",
       "    <tr>\n",
       "      <th id=\"T_60d51_level0_row4\" class=\"row_heading level0 row4\" >4</th>\n",
       "      <td id=\"T_60d51_row4_col0\" class=\"data row4 col0\" >5238</td>\n",
       "      <td id=\"T_60d51_row4_col1\" class=\"data row4 col1\" >Cute & Cozy Lower East Side 1 bdrm</td>\n",
       "      <td id=\"T_60d51_row4_col2\" class=\"data row4 col2\" >Entire home/apt</td>\n",
       "    </tr>\n",
       "  </tbody>\n",
       "</table>\n"
      ],
      "text/plain": [
       "<pandas.io.formats.style.Styler at 0x257a9934670>"
      ]
     },
     "execution_count": 32,
     "metadata": {},
     "output_type": "execute_result"
    }
   ],
   "source": [
    "room_types.head().style.background_gradient()"
   ]
  },
  {
   "cell_type": "code",
   "execution_count": 33,
   "id": "062c5e86",
   "metadata": {},
   "outputs": [
    {
     "data": {
      "text/html": [
       "<style type=\"text/css\">\n",
       "#T_9f03a_row0_col0 {\n",
       "  background-color: #fff7fb;\n",
       "  color: #000000;\n",
       "}\n",
       "#T_9f03a_row1_col0 {\n",
       "  background-color: #81aed2;\n",
       "  color: #f1f1f1;\n",
       "}\n",
       "#T_9f03a_row2_col0 {\n",
       "  background-color: #03466e;\n",
       "  color: #f1f1f1;\n",
       "}\n",
       "#T_9f03a_row3_col0 {\n",
       "  background-color: #023d60;\n",
       "  color: #f1f1f1;\n",
       "}\n",
       "#T_9f03a_row4_col0 {\n",
       "  background-color: #023858;\n",
       "  color: #f1f1f1;\n",
       "}\n",
       "</style>\n",
       "<table id=\"T_9f03a\">\n",
       "  <thead>\n",
       "    <tr>\n",
       "      <th class=\"blank level0\" >&nbsp;</th>\n",
       "      <th id=\"T_9f03a_level0_col0\" class=\"col_heading level0 col0\" > listing_id</th>\n",
       "      <th id=\"T_9f03a_level0_col1\" class=\"col_heading level0 col1\" >host_name</th>\n",
       "      <th id=\"T_9f03a_level0_col2\" class=\"col_heading level0 col2\" >last_review</th>\n",
       "    </tr>\n",
       "  </thead>\n",
       "  <tbody>\n",
       "    <tr>\n",
       "      <th id=\"T_9f03a_level0_row0\" class=\"row_heading level0 row0\" >0</th>\n",
       "      <td id=\"T_9f03a_row0_col0\" class=\"data row0 col0\" >2595</td>\n",
       "      <td id=\"T_9f03a_row0_col1\" class=\"data row0 col1\" >Jennifer</td>\n",
       "      <td id=\"T_9f03a_row0_col2\" class=\"data row0 col2\" >May 21 2019</td>\n",
       "    </tr>\n",
       "    <tr>\n",
       "      <th id=\"T_9f03a_level0_row1\" class=\"row_heading level0 row1\" >1</th>\n",
       "      <td id=\"T_9f03a_row1_col0\" class=\"data row1 col0\" >3831</td>\n",
       "      <td id=\"T_9f03a_row1_col1\" class=\"data row1 col1\" >LisaRoxanne</td>\n",
       "      <td id=\"T_9f03a_row1_col2\" class=\"data row1 col2\" >July 05 2019</td>\n",
       "    </tr>\n",
       "    <tr>\n",
       "      <th id=\"T_9f03a_level0_row2\" class=\"row_heading level0 row2\" >2</th>\n",
       "      <td id=\"T_9f03a_row2_col0\" class=\"data row2 col0\" >5099</td>\n",
       "      <td id=\"T_9f03a_row2_col1\" class=\"data row2 col1\" >Chris</td>\n",
       "      <td id=\"T_9f03a_row2_col2\" class=\"data row2 col2\" >June 22 2019</td>\n",
       "    </tr>\n",
       "    <tr>\n",
       "      <th id=\"T_9f03a_level0_row3\" class=\"row_heading level0 row3\" >3</th>\n",
       "      <td id=\"T_9f03a_row3_col0\" class=\"data row3 col0\" >5178</td>\n",
       "      <td id=\"T_9f03a_row3_col1\" class=\"data row3 col1\" >Shunichi</td>\n",
       "      <td id=\"T_9f03a_row3_col2\" class=\"data row3 col2\" >June 24 2019</td>\n",
       "    </tr>\n",
       "    <tr>\n",
       "      <th id=\"T_9f03a_level0_row4\" class=\"row_heading level0 row4\" >4</th>\n",
       "      <td id=\"T_9f03a_row4_col0\" class=\"data row4 col0\" >5238</td>\n",
       "      <td id=\"T_9f03a_row4_col1\" class=\"data row4 col1\" >Ben</td>\n",
       "      <td id=\"T_9f03a_row4_col2\" class=\"data row4 col2\" >June 09 2019</td>\n",
       "    </tr>\n",
       "  </tbody>\n",
       "</table>\n"
      ],
      "text/plain": [
       "<pandas.io.formats.style.Styler at 0x257a63d1c00>"
      ]
     },
     "execution_count": 33,
     "metadata": {},
     "output_type": "execute_result"
    }
   ],
   "source": [
    "reviews.head().style.background_gradient()"
   ]
  },
  {
   "cell_type": "code",
   "execution_count": 34,
   "id": "ee5b99dd",
   "metadata": {},
   "outputs": [],
   "source": [
    "#cleaning"
   ]
  },
  {
   "cell_type": "code",
   "execution_count": 35,
   "id": "98e6e0ad",
   "metadata": {},
   "outputs": [
    {
     "name": "stdout",
     "output_type": "stream",
     "text": [
      "count    25209.000000\n",
      "mean       141.777936\n",
      "std        147.349137\n",
      "min          0.000000\n",
      "25%         69.000000\n",
      "50%        105.000000\n",
      "75%        175.000000\n",
      "max       7500.000000\n",
      "Name: price, dtype: float64\n"
     ]
    }
   ],
   "source": [
    "prices['price'] = prices['price'].str.replace(' dollars','')\n",
    "prices['price'] = pd.to_numeric(prices['price'])\n",
    "print(prices['price'].describe())"
   ]
  },
  {
   "cell_type": "code",
   "execution_count": 36,
   "id": "6792db30",
   "metadata": {},
   "outputs": [
    {
     "name": "stdout",
     "output_type": "stream",
     "text": [
      "The average price per night for an Airbnb listing in NYC is $141.82.\n"
     ]
    }
   ],
   "source": [
    "free_listing = prices['price'] == 0\n",
    "prices = prices.loc[~free_listing]\n",
    "avg_price = round(prices['price'].mean(),2)\n",
    "print(\"The average price per night for an Airbnb listing in NYC is ${}.\".format(avg_price))"
   ]
  },
  {
   "cell_type": "code",
   "execution_count": 37,
   "id": "4ba97201",
   "metadata": {},
   "outputs": [],
   "source": [
    "#adding new column for monthly cost calculation\n",
    "# Calculate average_price_per_month\n",
    "# Compare Airbnb and rental market"
   ]
  },
  {
   "cell_type": "code",
   "execution_count": 51,
   "id": "c4646d21",
   "metadata": {},
   "outputs": [
    {
     "name": "stdout",
     "output_type": "stream",
     "text": [
      "Airbnb monthly costs are $4313.61, while in the private market you would pay $3,100.00.\n"
     ]
    }
   ],
   "source": [
    "prices[\"price_per_month\"] = prices[\"price\"] * 365 / 12\n",
    "average_price_per_month = round(prices[\"price_per_month\"].mean(), 2)\n",
    "print(\"Airbnb monthly costs are ${}, while in the private market you would pay {}.\".format(average_price_per_month, \"$3,100.00\"))"
   ]
  },
  {
   "cell_type": "code",
   "execution_count": 40,
   "id": "a26b9f53",
   "metadata": {},
   "outputs": [
    {
     "name": "stdout",
     "output_type": "stream",
     "text": [
      "entire home/apt    13266\n",
      "private room       11356\n",
      "shared room          587\n",
      "Name: room_type, dtype: int64\n"
     ]
    }
   ],
   "source": [
    "room_types[\"room_type\"] = room_types[\"room_type\"].str.lower()\n",
    "room_types[\"room_type\"] = room_types[\"room_type\"].astype(\"category\")\n",
    "room_frequencies = room_types[\"room_type\"].value_counts()\n",
    "print(room_frequencies)"
   ]
  },
  {
   "cell_type": "code",
   "execution_count": 52,
   "id": "1f055880",
   "metadata": {},
   "outputs": [
    {
     "name": "stdout",
     "output_type": "stream",
     "text": [
      "The earliest Airbnb review is 2019-01-01, the latest review is 2019-07-09\n"
     ]
    }
   ],
   "source": [
    "reviews[\"last_review\"] = pd.to_datetime(reviews[\"last_review\"])\n",
    "first_reviewed = reviews[\"last_review\"].dt.date.min()\n",
    "last_reviewed = reviews[\"last_review\"].dt.date.max()\n",
    "print(\"The earliest Airbnb review is {}, the latest review is {}\".format(first_reviewed, last_reviewed))\n"
   ]
  },
  {
   "cell_type": "code",
   "execution_count": 53,
   "id": "53d7a1e0",
   "metadata": {},
   "outputs": [],
   "source": [
    "# Merge prices and room_types to create rooms_and_prices\n",
    "# Merge rooms_and_prices with the reviews DataFrame to create airbnb_merged\n",
    "# Drop missing values from airbnb_merged\n",
    "# Check if there are any duplicate values"
   ]
  },
  {
   "cell_type": "code",
   "execution_count": 56,
   "id": "99249bf1",
   "metadata": {},
   "outputs": [
    {
     "name": "stdout",
     "output_type": "stream",
     "text": [
      "There are 0 duplicates in the DataFrame.\n"
     ]
    }
   ],
   "source": [
    "rooms_and_prices = prices.merge(room_types, how=\"outer\", on=\"listing_id\")\n",
    "airbnb_merged = room_types.merge(rooms_and_prices, how=\"outer\", on=\"listing_id\")\n",
    "airbnb_merged.dropna(inplace=True)\n",
    "print(\"There are {} duplicates in the DataFrame.\".format(airbnb_merged.duplicated().sum()))"
   ]
  },
  {
   "cell_type": "code",
   "execution_count": 57,
   "id": "538fb449",
   "metadata": {
    "scrolled": true
   },
   "outputs": [
    {
     "data": {
      "text/html": [
       "<style type=\"text/css\">\n",
       "#T_580a5_row0_col0, #T_580a5_row3_col3, #T_580a5_row3_col5 {\n",
       "  background-color: #fff7fb;\n",
       "  color: #000000;\n",
       "}\n",
       "#T_580a5_row0_col3, #T_580a5_row0_col5, #T_580a5_row4_col0 {\n",
       "  background-color: #023858;\n",
       "  color: #f1f1f1;\n",
       "}\n",
       "#T_580a5_row1_col0 {\n",
       "  background-color: #81aed2;\n",
       "  color: #f1f1f1;\n",
       "}\n",
       "#T_580a5_row1_col3, #T_580a5_row1_col5 {\n",
       "  background-color: #f5eef6;\n",
       "  color: #000000;\n",
       "}\n",
       "#T_580a5_row2_col0 {\n",
       "  background-color: #03466e;\n",
       "  color: #f1f1f1;\n",
       "}\n",
       "#T_580a5_row2_col3, #T_580a5_row2_col5 {\n",
       "  background-color: #046299;\n",
       "  color: #f1f1f1;\n",
       "}\n",
       "#T_580a5_row3_col0 {\n",
       "  background-color: #023d60;\n",
       "  color: #f1f1f1;\n",
       "}\n",
       "#T_580a5_row4_col3, #T_580a5_row4_col5 {\n",
       "  background-color: #79abd0;\n",
       "  color: #f1f1f1;\n",
       "}\n",
       "</style>\n",
       "<table id=\"T_580a5\">\n",
       "  <thead>\n",
       "    <tr>\n",
       "      <th class=\"blank level0\" >&nbsp;</th>\n",
       "      <th id=\"T_580a5_level0_col0\" class=\"col_heading level0 col0\" >listing_id</th>\n",
       "      <th id=\"T_580a5_level0_col1\" class=\"col_heading level0 col1\" >description_x</th>\n",
       "      <th id=\"T_580a5_level0_col2\" class=\"col_heading level0 col2\" >room_type_x</th>\n",
       "      <th id=\"T_580a5_level0_col3\" class=\"col_heading level0 col3\" >price</th>\n",
       "      <th id=\"T_580a5_level0_col4\" class=\"col_heading level0 col4\" >nbhood_full</th>\n",
       "      <th id=\"T_580a5_level0_col5\" class=\"col_heading level0 col5\" >price_per_month</th>\n",
       "      <th id=\"T_580a5_level0_col6\" class=\"col_heading level0 col6\" >description_y</th>\n",
       "      <th id=\"T_580a5_level0_col7\" class=\"col_heading level0 col7\" >room_type_y</th>\n",
       "    </tr>\n",
       "  </thead>\n",
       "  <tbody>\n",
       "    <tr>\n",
       "      <th id=\"T_580a5_level0_row0\" class=\"row_heading level0 row0\" >0</th>\n",
       "      <td id=\"T_580a5_row0_col0\" class=\"data row0 col0\" >2595</td>\n",
       "      <td id=\"T_580a5_row0_col1\" class=\"data row0 col1\" >Skylit Midtown Castle</td>\n",
       "      <td id=\"T_580a5_row0_col2\" class=\"data row0 col2\" >entire home/apt</td>\n",
       "      <td id=\"T_580a5_row0_col3\" class=\"data row0 col3\" >225.000000</td>\n",
       "      <td id=\"T_580a5_row0_col4\" class=\"data row0 col4\" >Manhattan, Midtown</td>\n",
       "      <td id=\"T_580a5_row0_col5\" class=\"data row0 col5\" >6843.750000</td>\n",
       "      <td id=\"T_580a5_row0_col6\" class=\"data row0 col6\" >Skylit Midtown Castle</td>\n",
       "      <td id=\"T_580a5_row0_col7\" class=\"data row0 col7\" >entire home/apt</td>\n",
       "    </tr>\n",
       "    <tr>\n",
       "      <th id=\"T_580a5_level0_row1\" class=\"row_heading level0 row1\" >1</th>\n",
       "      <td id=\"T_580a5_row1_col0\" class=\"data row1 col0\" >3831</td>\n",
       "      <td id=\"T_580a5_row1_col1\" class=\"data row1 col1\" >Cozy Entire Floor of Brownstone</td>\n",
       "      <td id=\"T_580a5_row1_col2\" class=\"data row1 col2\" >entire home/apt</td>\n",
       "      <td id=\"T_580a5_row1_col3\" class=\"data row1 col3\" >89.000000</td>\n",
       "      <td id=\"T_580a5_row1_col4\" class=\"data row1 col4\" >Brooklyn, Clinton Hill</td>\n",
       "      <td id=\"T_580a5_row1_col5\" class=\"data row1 col5\" >2707.083333</td>\n",
       "      <td id=\"T_580a5_row1_col6\" class=\"data row1 col6\" >Cozy Entire Floor of Brownstone</td>\n",
       "      <td id=\"T_580a5_row1_col7\" class=\"data row1 col7\" >entire home/apt</td>\n",
       "    </tr>\n",
       "    <tr>\n",
       "      <th id=\"T_580a5_level0_row2\" class=\"row_heading level0 row2\" >2</th>\n",
       "      <td id=\"T_580a5_row2_col0\" class=\"data row2 col0\" >5099</td>\n",
       "      <td id=\"T_580a5_row2_col1\" class=\"data row2 col1\" >Large Cozy 1 BR Apartment In Midtown East</td>\n",
       "      <td id=\"T_580a5_row2_col2\" class=\"data row2 col2\" >entire home/apt</td>\n",
       "      <td id=\"T_580a5_row2_col3\" class=\"data row2 col3\" >200.000000</td>\n",
       "      <td id=\"T_580a5_row2_col4\" class=\"data row2 col4\" >Manhattan, Murray Hill</td>\n",
       "      <td id=\"T_580a5_row2_col5\" class=\"data row2 col5\" >6083.333333</td>\n",
       "      <td id=\"T_580a5_row2_col6\" class=\"data row2 col6\" >Large Cozy 1 BR Apartment In Midtown East</td>\n",
       "      <td id=\"T_580a5_row2_col7\" class=\"data row2 col7\" >entire home/apt</td>\n",
       "    </tr>\n",
       "    <tr>\n",
       "      <th id=\"T_580a5_level0_row3\" class=\"row_heading level0 row3\" >3</th>\n",
       "      <td id=\"T_580a5_row3_col0\" class=\"data row3 col0\" >5178</td>\n",
       "      <td id=\"T_580a5_row3_col1\" class=\"data row3 col1\" >Large Furnished Room Near B'way</td>\n",
       "      <td id=\"T_580a5_row3_col2\" class=\"data row3 col2\" >private room</td>\n",
       "      <td id=\"T_580a5_row3_col3\" class=\"data row3 col3\" >79.000000</td>\n",
       "      <td id=\"T_580a5_row3_col4\" class=\"data row3 col4\" >Manhattan, Hell's Kitchen</td>\n",
       "      <td id=\"T_580a5_row3_col5\" class=\"data row3 col5\" >2402.916667</td>\n",
       "      <td id=\"T_580a5_row3_col6\" class=\"data row3 col6\" >Large Furnished Room Near B'way</td>\n",
       "      <td id=\"T_580a5_row3_col7\" class=\"data row3 col7\" >private room</td>\n",
       "    </tr>\n",
       "    <tr>\n",
       "      <th id=\"T_580a5_level0_row4\" class=\"row_heading level0 row4\" >4</th>\n",
       "      <td id=\"T_580a5_row4_col0\" class=\"data row4 col0\" >5238</td>\n",
       "      <td id=\"T_580a5_row4_col1\" class=\"data row4 col1\" >Cute & Cozy Lower East Side 1 bdrm</td>\n",
       "      <td id=\"T_580a5_row4_col2\" class=\"data row4 col2\" >entire home/apt</td>\n",
       "      <td id=\"T_580a5_row4_col3\" class=\"data row4 col3\" >150.000000</td>\n",
       "      <td id=\"T_580a5_row4_col4\" class=\"data row4 col4\" >Manhattan, Chinatown</td>\n",
       "      <td id=\"T_580a5_row4_col5\" class=\"data row4 col5\" >4562.500000</td>\n",
       "      <td id=\"T_580a5_row4_col6\" class=\"data row4 col6\" >Cute & Cozy Lower East Side 1 bdrm</td>\n",
       "      <td id=\"T_580a5_row4_col7\" class=\"data row4 col7\" >entire home/apt</td>\n",
       "    </tr>\n",
       "  </tbody>\n",
       "</table>\n"
      ],
      "text/plain": [
       "<pandas.io.formats.style.Styler at 0x257a63abc40>"
      ]
     },
     "execution_count": 57,
     "metadata": {},
     "output_type": "execute_result"
    }
   ],
   "source": [
    "airbnb_merged.head().style.background_gradient()"
   ]
  },
  {
   "cell_type": "code",
   "execution_count": 59,
   "id": "d5799c26",
   "metadata": {},
   "outputs": [
    {
     "name": "stdout",
     "output_type": "stream",
     "text": [
      "                     sum    mean  median  count\n",
      "borough                                        \n",
      "Manhattan      1898963.0  184.03   149.0  10319\n",
      "Brooklyn       1275435.0  122.02    95.0  10453\n",
      "Queens          320765.0   92.81    70.0   3456\n",
      "Staten Island    22974.0   86.04    71.0    267\n",
      "Bronx            55231.0   79.24    65.0    697\n"
     ]
    }
   ],
   "source": [
    "airbnb_merged[\"borough\"] = airbnb_merged[\"nbhood_full\"].str.partition(\",\")[0]\n",
    "boroughs = airbnb_merged.groupby(\"borough\")[\"price\"].agg([\"sum\", \"mean\", \"median\", \"count\"])\n",
    "boroughs = boroughs.round(2).sort_values(\"mean\", ascending=False)\n",
    "print(boroughs)"
   ]
  },
  {
   "cell_type": "code",
   "execution_count": 60,
   "id": "1a645fa8",
   "metadata": {},
   "outputs": [
    {
     "name": "stdout",
     "output_type": "stream",
     "text": [
      "borough        price_range\n",
      "Bronx          Budget          381\n",
      "               Average         286\n",
      "               Expensive        25\n",
      "               Extravagant       5\n",
      "Brooklyn       Budget         3194\n",
      "               Average        5534\n",
      "               Expensive      1466\n",
      "               Extravagant     259\n",
      "Manhattan      Budget         1148\n",
      "               Average        5288\n",
      "               Expensive      3073\n",
      "               Extravagant     810\n",
      "Queens         Budget         1632\n",
      "               Average        1505\n",
      "               Expensive       291\n",
      "               Extravagant      28\n",
      "Staten Island  Budget          124\n",
      "               Average         123\n",
      "               Expensive        20\n",
      "               Extravagant       0\n",
      "Name: price_range, dtype: int64\n"
     ]
    }
   ],
   "source": [
    "# Create labels for the price range, label_names\n",
    "label_names = [\"Budget\", \"Average\", \"Expensive\", \"Extravagant\"]\n",
    "ranges = [0, 69, 175, 350, np.inf]\n",
    "airbnb_merged[\"price_range\"] = pd.cut(airbnb_merged[\"price\"], bins=ranges, labels=label_names)\n",
    "prices_by_borough = airbnb_merged.groupby([\"borough\", \"price_range\"])[\"price_range\"].count()\n",
    "print(prices_by_borough)"
   ]
  }
 ],
 "metadata": {
  "kernelspec": {
   "display_name": "Python 3 (ipykernel)",
   "language": "python",
   "name": "python3"
  },
  "language_info": {
   "codemirror_mode": {
    "name": "ipython",
    "version": 3
   },
   "file_extension": ".py",
   "mimetype": "text/x-python",
   "name": "python",
   "nbconvert_exporter": "python",
   "pygments_lexer": "ipython3",
   "version": "3.10.9"
  }
 },
 "nbformat": 4,
 "nbformat_minor": 5
}
